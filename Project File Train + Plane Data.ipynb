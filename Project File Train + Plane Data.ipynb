{
 "cells": [
  {
   "attachments": {},
   "cell_type": "markdown",
   "metadata": {},
   "source": [
    "*Project 1 Group 5*\n",
    "\n",
    "The aim of our project is to uncover opportunities within shorthaul rail in Texas. We'll examine relationships between population projections, emissions, travel time, and other related relationships derived from the data. We'll also examine the impact of the COVID-19 pandemic on shorthaul rail in Texas.\n",
    "\n",
    "What are the growth rates of Austin and Dallas? What are the existing rail lines connecting the two cities? What is the average fuel consumption for the different modes of transporation for a distance of this Length? How will future population growth affect the future emissions?"
   ]
  },
  {
   "cell_type": "code",
   "execution_count": null,
   "metadata": {},
   "outputs": [],
   "source": [
    "import pandas as pd\n",
    "import geopandas as gpd\n",
    "import hvplot.pandas\n",
    "import requests\n",
    "import json\n",
    "import folium\n",
    "import config"
   ]
  },
  {
   "attachments": {},
   "cell_type": "markdown",
   "metadata": {},
   "source": [
    "*Data Sources*"
   ]
  },
  {
   "cell_type": "code",
   "execution_count": null,
   "metadata": {},
   "outputs": [],
   "source": [
    "\n"
   ]
  },
  {
   "cell_type": "code",
   "execution_count": null,
   "metadata": {},
   "outputs": [],
   "source": [
    "#emissions Data for plane and train rides\n"
   ]
  },
  {
   "cell_type": "code",
   "execution_count": 72,
   "metadata": {},
   "outputs": [
    {
     "name": "stdout",
     "output_type": "stream",
     "text": [
      "Error: \n",
      "        {\"title\": \"Rate limit error\", \"reason\": \"RATE_LIMIT_ERROR\", \"detail\": \"User has reached quota limit\", \"status\": 429}\n",
      "    \n"
     ]
    }
   ],
   "source": [
    "#Flight API Data - FlightAware Dallas\n",
    "# API endpoint URL\n",
    "url = \"https://aeroapi.flightaware.com/aeroapi/airports/KDFW/flights\"\n",
    "\n",
    "# API Key\n",
    "api_key = \"x-apikey\"\n",
    "\n",
    "#Query parameters\n",
    "query_params = {\n",
    "    \"start\": \"2023-02-01T19:59:59Z\",\n",
    "    \"end\": \"2023-02-06T19:59:59Z\",\n",
    "    \"type\": \"Airline\",\n",
    "   \"max_pages\": 10\n",
    "}\n",
    "\n",
    "# Send the API request\n",
    "response = requests.get(url, headers={api_key: config.api_key}, params=query_params)\n",
    "\n",
    "# Check if the API request was successful\n",
    "if response.status_code == 200:\n",
    "    #Get the data from the API response\n",
    "    dallas_data = response.json()\n",
    "    #Print the data\n",
    "    print(dallas_data)\n",
    "else:\n",
    "    # Print the error message\n",
    "    print(\"Error:\", response.text)"
   ]
  },
  {
   "cell_type": "code",
   "execution_count": null,
   "metadata": {},
   "outputs": [],
   "source": [
    "#Airport API Data - Austin\n",
    "# API endpoint URL\n",
    "url = \"https://aeroapi.flightaware.com/aeroapi/airports/KAUS/flights\"\n",
    "\n",
    "# API Key\n",
    "api_key = \"x-apikey\"\n",
    "\n",
    "#Query parameters\n",
    "query_params = {\n",
    "    \"start\": \"2023-02-01T19:59:59Z\",\n",
    "    \"end\": \"2023-02-06T19:59:59Z\",\n",
    "    \"type\": \"Airline\",\n",
    "    \"max_pages\": 10\n",
    "}\n",
    "\n",
    "# Send the API request\n",
    "response = requests.get(url, headers={api_key: config.api_key}, params=query_params)\n",
    "\n",
    "# Check if the API request was successful\n",
    "if response.status_code == 200:\n",
    "    #Get the data from the API response\n",
    "    austin_data = response.json()\n",
    "    #Print the data\n",
    "    print(austin_data)\n",
    "else:\n",
    "    # Print the error message\n",
    "    print(\"Error:\", response.text)\n",
    "    \n",
    "    "
   ]
  },
  {
   "cell_type": "code",
   "execution_count": 65,
   "metadata": {},
   "outputs": [
    {
     "name": "stdout",
     "output_type": "stream",
     "text": [
      "     ident ident_icao ident_iata                      fa_flight_id operator  \\\n",
      "0  ASH5810    ASH5810     YV5810  ASH5810-1675528620-schedule-0204      ASH   \n",
      "1  AAL1263    AAL1263     AA1263   AAL1263-1675521403-airline-0361      AAL   \n",
      "2  ENY9862    ENY9862     MQ9862         ENY9862-1675705555-5-0-71      ENY   \n",
      "3  ENY3478    ENY3478     MQ3478   ENY3478-1675524709-airline-0781      ENY   \n",
      "4  ENY3538    ENY3538     MQ3538   ENY3538-1675528568-airline-0086      ENY   \n",
      "\n",
      "  operator_icao operator_iata flight_number registration atc_ident  ...  \\\n",
      "0           ASH            YV          5810       N927LR      None  ...   \n",
      "1           AAL            AA          1263       N825AW      None  ...   \n",
      "2           ENY            MQ          9862       N221NN      None  ...   \n",
      "3           ENY            MQ          3478       N212NN      None  ...   \n",
      "4           ENY            MQ          3538       N202NN      None  ...   \n",
      "\n",
      "                         origin.city origin.airport_info_url destination.code  \\\n",
      "0                            Jackson          /airports/KJAN             KDFW   \n",
      "1                              Silao          /airports/MMLO             KDFW   \n",
      "2                             Austin          /airports/KAUS             KDFW   \n",
      "3  Valparaiso/Destin-Ft Walton Beach          /airports/KVPS             KDFW   \n",
      "4                            Jackson          /airports/KJAN             KDFW   \n",
      "\n",
      "   destination.code_icao  destination.code_iata  destination.code_lid  \\\n",
      "0                   KDFW                    DFW                   DFW   \n",
      "1                   KDFW                    DFW                   DFW   \n",
      "2                   KDFW                    DFW                   DFW   \n",
      "3                   KDFW                    DFW                   DFW   \n",
      "4                   KDFW                    DFW                   DFW   \n",
      "\n",
      "   destination.timezone        destination.name   destination.city  \\\n",
      "0       America/Chicago  Dallas-Fort Worth Intl  Dallas-Fort Worth   \n",
      "1       America/Chicago  Dallas-Fort Worth Intl  Dallas-Fort Worth   \n",
      "2       America/Chicago  Dallas-Fort Worth Intl  Dallas-Fort Worth   \n",
      "3       America/Chicago  Dallas-Fort Worth Intl  Dallas-Fort Worth   \n",
      "4       America/Chicago  Dallas-Fort Worth Intl  Dallas-Fort Worth   \n",
      "\n",
      "   destination.airport_info_url  \n",
      "0                /airports/KDFW  \n",
      "1                /airports/KDFW  \n",
      "2                /airports/KDFW  \n",
      "3                /airports/KDFW  \n",
      "4                /airports/KDFW  \n",
      "\n",
      "[5 rows x 64 columns]\n"
     ]
    }
   ],
   "source": [
    "austin_data_df = pd.json_normalize(austin_data['arrivals'])\n",
    "dallas_data_df = pd.json_normalize(dallas_data['arrivals'])"
   ]
  },
  {
   "cell_type": "code",
   "execution_count": null,
   "metadata": {},
   "outputs": [],
   "source": [
    "#print(json.dumps(austin_data, indent=4, sort_keys=True))"
   ]
  },
  {
   "cell_type": "code",
   "execution_count": 66,
   "metadata": {},
   "outputs": [],
   "source": [
    "#Filter the data to only include flights from KDFW to KAUS\n",
    "austin_to_dallas_df = austin_data_df[austin_data_df['origin.code'] == 'KDFW']\n",
    "\n",
    "#Filter the data to only include flights from KAUS to KDFW\n",
    "dallas_to_austin_df = dallas_data_df[dallas_data_df['origin.code'] == 'KAUS']"
   ]
  },
  {
   "cell_type": "code",
   "execution_count": 71,
   "metadata": {},
   "outputs": [
    {
     "ename": "NameError",
     "evalue": "name 'dallas_to_austin_df' is not defined",
     "output_type": "error",
     "traceback": [
      "\u001b[0;31m---------------------------------------------------------------------------\u001b[0m",
      "\u001b[0;31mNameError\u001b[0m                                 Traceback (most recent call last)",
      "\u001b[0;32m/var/folders/0m/2rr2_6x50_z7_t7gp4rq36d40000gn/T/ipykernel_1027/3072503402.py\u001b[0m in \u001b[0;36m<module>\u001b[0;34m\u001b[0m\n\u001b[1;32m      1\u001b[0m \u001b[0;31m#Total the number of flights from Dallas to Austin and Austin to Dallas by combining the two dataframes\u001b[0m\u001b[0;34m\u001b[0m\u001b[0;34m\u001b[0m\u001b[0m\n\u001b[0;32m----> 2\u001b[0;31m \u001b[0mtotal_flights\u001b[0m \u001b[0;34m=\u001b[0m \u001b[0maustin_to_dallas_df\u001b[0m\u001b[0;34m[\u001b[0m\u001b[0;34m'ident'\u001b[0m\u001b[0;34m]\u001b[0m\u001b[0;34m.\u001b[0m\u001b[0mcount\u001b[0m\u001b[0;34m(\u001b[0m\u001b[0;34m)\u001b[0m \u001b[0;34m+\u001b[0m \u001b[0mdallas_to_austin_df\u001b[0m\u001b[0;34m[\u001b[0m\u001b[0;34m'ident'\u001b[0m\u001b[0;34m]\u001b[0m\u001b[0;34m.\u001b[0m\u001b[0mcount\u001b[0m\u001b[0;34m(\u001b[0m\u001b[0;34m)\u001b[0m\u001b[0;34m\u001b[0m\u001b[0;34m\u001b[0m\u001b[0m\n\u001b[0m",
      "\u001b[0;31mNameError\u001b[0m: name 'dallas_to_austin_df' is not defined"
     ]
    }
   ],
   "source": [
    "#Total the number of flights from Dallas to Austin and Austin to Dallas by combining the two dataframes\n",
    "\n"
   ]
  },
  {
   "cell_type": "code",
   "execution_count": 73,
   "metadata": {},
   "outputs": [
    {
     "data": {},
     "metadata": {},
     "output_type": "display_data"
    },
    {
     "data": {
      "application/vnd.holoviews_exec.v0+json": "",
      "text/html": [
       "<div id='1113'>\n",
       "  <div class=\"bk-root\" id=\"8fb768d3-8e3d-4ad6-9b22-8e00cc6e11e5\" data-root-id=\"1113\"></div>\n",
       "</div>\n",
       "<script type=\"application/javascript\">(function(root) {\n",
       "  function embed_document(root) {\n",
       "    var docs_json = {\"a47435e7-7b8c-414b-bafb-7b215c38fac4\":{\"defs\":[{\"extends\":null,\"module\":null,\"name\":\"ReactiveHTML1\",\"overrides\":[],\"properties\":[]},{\"extends\":null,\"module\":null,\"name\":\"FlexBox1\",\"overrides\":[],\"properties\":[{\"default\":\"flex-start\",\"kind\":null,\"name\":\"align_content\"},{\"default\":\"flex-start\",\"kind\":null,\"name\":\"align_items\"},{\"default\":\"row\",\"kind\":null,\"name\":\"flex_direction\"},{\"default\":\"wrap\",\"kind\":null,\"name\":\"flex_wrap\"},{\"default\":\"flex-start\",\"kind\":null,\"name\":\"justify_content\"}]},{\"extends\":null,\"module\":null,\"name\":\"GridStack1\",\"overrides\":[],\"properties\":[{\"default\":\"warn\",\"kind\":null,\"name\":\"mode\"},{\"default\":null,\"kind\":null,\"name\":\"ncols\"},{\"default\":null,\"kind\":null,\"name\":\"nrows\"},{\"default\":true,\"kind\":null,\"name\":\"allow_resize\"},{\"default\":true,\"kind\":null,\"name\":\"allow_drag\"},{\"default\":[],\"kind\":null,\"name\":\"state\"}]},{\"extends\":null,\"module\":null,\"name\":\"click1\",\"overrides\":[],\"properties\":[{\"default\":\"\",\"kind\":null,\"name\":\"terminal_output\"},{\"default\":\"\",\"kind\":null,\"name\":\"debug_name\"},{\"default\":0,\"kind\":null,\"name\":\"clears\"}]},{\"extends\":null,\"module\":null,\"name\":\"NotificationAreaBase1\",\"overrides\":[],\"properties\":[{\"default\":\"bottom-right\",\"kind\":null,\"name\":\"position\"},{\"default\":0,\"kind\":null,\"name\":\"_clear\"}]},{\"extends\":null,\"module\":null,\"name\":\"NotificationArea1\",\"overrides\":[],\"properties\":[{\"default\":[],\"kind\":null,\"name\":\"notifications\"},{\"default\":\"bottom-right\",\"kind\":null,\"name\":\"position\"},{\"default\":0,\"kind\":null,\"name\":\"_clear\"},{\"default\":[{\"background\":\"#ffc107\",\"icon\":{\"className\":\"fas fa-exclamation-triangle\",\"color\":\"white\",\"tagName\":\"i\"},\"type\":\"warning\"},{\"background\":\"#007bff\",\"icon\":{\"className\":\"fas fa-info-circle\",\"color\":\"white\",\"tagName\":\"i\"},\"type\":\"info\"}],\"kind\":null,\"name\":\"types\"}]},{\"extends\":null,\"module\":null,\"name\":\"Notification\",\"overrides\":[],\"properties\":[{\"default\":null,\"kind\":null,\"name\":\"background\"},{\"default\":3000,\"kind\":null,\"name\":\"duration\"},{\"default\":null,\"kind\":null,\"name\":\"icon\"},{\"default\":\"\",\"kind\":null,\"name\":\"message\"},{\"default\":null,\"kind\":null,\"name\":\"notification_type\"},{\"default\":false,\"kind\":null,\"name\":\"_destroyed\"}]},{\"extends\":null,\"module\":null,\"name\":\"TemplateActions1\",\"overrides\":[],\"properties\":[{\"default\":0,\"kind\":null,\"name\":\"open_modal\"},{\"default\":0,\"kind\":null,\"name\":\"close_modal\"}]},{\"extends\":null,\"module\":null,\"name\":\"MaterialTemplateActions1\",\"overrides\":[],\"properties\":[{\"default\":0,\"kind\":null,\"name\":\"open_modal\"},{\"default\":0,\"kind\":null,\"name\":\"close_modal\"}]}],\"roots\":{\"references\":[{\"attributes\":{},\"id\":\"1131\",\"type\":\"BasicTicker\"},{\"attributes\":{\"reset_end\":1.0,\"reset_start\":0.0,\"tags\":[[[\"scheduled_out\",\"scheduled_out\",null]]]},\"id\":\"1116\",\"type\":\"Range1d\"},{\"attributes\":{\"fill_alpha\":{\"value\":0.1},\"fill_color\":{\"value\":\"#30a2da\"},\"hatch_alpha\":{\"value\":0.1},\"hatch_color\":{\"value\":\"#30a2da\"},\"line_alpha\":{\"value\":0.1},\"top\":{\"field\":\"scheduled_out\"},\"width\":{\"value\":0.8},\"x\":{\"field\":\"index\"}},\"id\":\"1151\",\"type\":\"VBar\"},{\"attributes\":{},\"id\":\"1160\",\"type\":\"BasicTickFormatter\"},{\"attributes\":{\"fill_color\":{\"value\":\"#30a2da\"},\"hatch_color\":{\"value\":\"#30a2da\"},\"top\":{\"field\":\"scheduled_out\"},\"width\":{\"value\":0.8},\"x\":{\"field\":\"index\"}},\"id\":\"1150\",\"type\":\"VBar\"},{\"attributes\":{\"axis_label\":\"Day of the Week\",\"coordinates\":null,\"formatter\":{\"id\":\"1157\"},\"group\":null,\"major_label_orientation\":0.7853981633974483,\"major_label_policy\":{\"id\":\"1158\"},\"ticker\":{\"id\":\"1128\"}},\"id\":\"1127\",\"type\":\"CategoricalAxis\"},{\"attributes\":{\"axis_label\":\"Number of Flights\",\"coordinates\":null,\"formatter\":{\"id\":\"1160\"},\"group\":null,\"major_label_policy\":{\"id\":\"1161\"},\"ticker\":{\"id\":\"1131\"}},\"id\":\"1130\",\"type\":\"LinearAxis\"},{\"attributes\":{},\"id\":\"1169\",\"type\":\"UnionRenderers\"},{\"attributes\":{},\"id\":\"1125\",\"type\":\"LinearScale\"},{\"attributes\":{\"bottom_units\":\"screen\",\"coordinates\":null,\"fill_alpha\":0.5,\"fill_color\":\"lightgrey\",\"group\":null,\"left_units\":\"screen\",\"level\":\"overlay\",\"line_alpha\":1.0,\"line_color\":\"black\",\"line_dash\":[4,4],\"line_width\":2,\"right_units\":\"screen\",\"syncable\":false,\"top_units\":\"screen\"},\"id\":\"1139\",\"type\":\"BoxAnnotation\"},{\"attributes\":{\"coordinates\":null,\"data_source\":{\"id\":\"1147\"},\"glyph\":{\"id\":\"1150\"},\"group\":null,\"hover_glyph\":null,\"muted_glyph\":{\"id\":\"1152\"},\"nonselection_glyph\":{\"id\":\"1151\"},\"selection_glyph\":{\"id\":\"1155\"},\"view\":{\"id\":\"1154\"}},\"id\":\"1153\",\"type\":\"GlyphRenderer\"},{\"attributes\":{\"source\":{\"id\":\"1147\"}},\"id\":\"1154\",\"type\":\"CDSView\"},{\"attributes\":{\"axis\":{\"id\":\"1127\"},\"coordinates\":null,\"grid_line_color\":null,\"group\":null,\"ticker\":null},\"id\":\"1129\",\"type\":\"Grid\"},{\"attributes\":{},\"id\":\"1128\",\"type\":\"CategoricalTicker\"},{\"attributes\":{\"bottom\":{\"value\":0},\"fill_alpha\":{\"value\":1.0},\"fill_color\":{\"value\":\"#30a2da\"},\"hatch_alpha\":{\"value\":1.0},\"hatch_color\":{\"value\":\"#30a2da\"},\"hatch_scale\":{\"value\":12.0},\"hatch_weight\":{\"value\":1.0},\"line_alpha\":{\"value\":1.0},\"line_cap\":{\"value\":\"butt\"},\"line_color\":{\"value\":\"black\"},\"line_dash\":{\"value\":[]},\"line_dash_offset\":{\"value\":0},\"line_join\":{\"value\":\"bevel\"},\"line_width\":{\"value\":1},\"top\":{\"field\":\"scheduled_out\"},\"width\":{\"value\":0.8},\"x\":{\"field\":\"index\"}},\"id\":\"1155\",\"type\":\"VBar\"},{\"attributes\":{\"below\":[{\"id\":\"1127\"}],\"center\":[{\"id\":\"1129\"},{\"id\":\"1133\"}],\"height\":300,\"left\":[{\"id\":\"1130\"}],\"margin\":[5,5,5,5],\"min_border_bottom\":10,\"min_border_left\":10,\"min_border_right\":10,\"min_border_top\":10,\"renderers\":[{\"id\":\"1153\"}],\"sizing_mode\":\"fixed\",\"title\":{\"id\":\"1119\"},\"toolbar\":{\"id\":\"1140\"},\"width\":700,\"x_range\":{\"id\":\"1115\"},\"x_scale\":{\"id\":\"1123\"},\"y_range\":{\"id\":\"1116\"},\"y_scale\":{\"id\":\"1125\"}},\"id\":\"1118\",\"subtype\":\"Figure\",\"type\":\"Plot\"},{\"attributes\":{\"fill_alpha\":{\"value\":0.2},\"fill_color\":{\"value\":\"#30a2da\"},\"hatch_alpha\":{\"value\":0.2},\"hatch_color\":{\"value\":\"#30a2da\"},\"line_alpha\":{\"value\":0.2},\"top\":{\"field\":\"scheduled_out\"},\"width\":{\"value\":0.8},\"x\":{\"field\":\"index\"}},\"id\":\"1152\",\"type\":\"VBar\"},{\"attributes\":{},\"id\":\"1135\",\"type\":\"PanTool\"},{\"attributes\":{},\"id\":\"1161\",\"type\":\"AllLabels\"},{\"attributes\":{},\"id\":\"1123\",\"type\":\"CategoricalScale\"},{\"attributes\":{\"overlay\":{\"id\":\"1139\"}},\"id\":\"1137\",\"type\":\"BoxZoomTool\"},{\"attributes\":{},\"id\":\"1157\",\"type\":\"CategoricalTickFormatter\"},{\"attributes\":{\"coordinates\":null,\"group\":null,\"text\":\"Number of Flights from Austin to Dallas by Day of the Week\",\"text_color\":\"black\",\"text_font_size\":\"12pt\"},\"id\":\"1119\",\"type\":\"Title\"},{\"attributes\":{\"axis\":{\"id\":\"1130\"},\"coordinates\":null,\"dimension\":1,\"grid_line_color\":null,\"group\":null,\"ticker\":null},\"id\":\"1133\",\"type\":\"Grid\"},{\"attributes\":{\"data\":{\"index\":[\"2023-02-06T18:30:00Z\",\"2023-02-06T17:15:00Z\",\"2023-02-06T15:00:00Z\",\"2023-02-06T14:10:00Z\",\"2023-02-06T13:00:00Z\",\"2023-02-06T03:45:00Z\",\"2023-02-06T04:48:00Z\",\"2023-02-06T03:00:00Z\"],\"scheduled_out\":[1,1,1,1,1,1,1,1]},\"selected\":{\"id\":\"1148\"},\"selection_policy\":{\"id\":\"1169\"}},\"id\":\"1147\",\"type\":\"ColumnDataSource\"},{\"attributes\":{},\"id\":\"1136\",\"type\":\"WheelZoomTool\"},{\"attributes\":{\"children\":[{\"id\":\"1114\"},{\"id\":\"1118\"},{\"id\":\"1172\"}],\"margin\":[0,0,0,0],\"name\":\"Row00963\",\"tags\":[\"embedded\"]},\"id\":\"1113\",\"type\":\"Row\"},{\"attributes\":{},\"id\":\"1158\",\"type\":\"AllLabels\"},{\"attributes\":{\"tools\":[{\"id\":\"1117\"},{\"id\":\"1134\"},{\"id\":\"1135\"},{\"id\":\"1136\"},{\"id\":\"1137\"},{\"id\":\"1138\"}]},\"id\":\"1140\",\"type\":\"Toolbar\"},{\"attributes\":{\"margin\":[5,5,5,5],\"name\":\"HSpacer00968\",\"sizing_mode\":\"stretch_width\"},\"id\":\"1172\",\"type\":\"Spacer\"},{\"attributes\":{},\"id\":\"1134\",\"type\":\"SaveTool\"},{\"attributes\":{\"margin\":[5,5,5,5],\"name\":\"HSpacer00967\",\"sizing_mode\":\"stretch_width\"},\"id\":\"1114\",\"type\":\"Spacer\"},{\"attributes\":{\"factors\":[\"2023-02-06T18:30:00Z\",\"2023-02-06T17:15:00Z\",\"2023-02-06T15:00:00Z\",\"2023-02-06T14:10:00Z\",\"2023-02-06T13:00:00Z\",\"2023-02-06T03:45:00Z\",\"2023-02-06T04:48:00Z\",\"2023-02-06T03:00:00Z\"],\"tags\":[[[\"index\",\"index\",null]]]},\"id\":\"1115\",\"type\":\"FactorRange\"},{\"attributes\":{},\"id\":\"1138\",\"type\":\"ResetTool\"},{\"attributes\":{},\"id\":\"1148\",\"type\":\"Selection\"},{\"attributes\":{\"callback\":null,\"renderers\":[{\"id\":\"1153\"}],\"tags\":[\"hv_created\"],\"tooltips\":[[\"index\",\"@{index}\"],[\"scheduled_out\",\"@{scheduled_out}\"]]},\"id\":\"1117\",\"type\":\"HoverTool\"}],\"root_ids\":[\"1113\"]},\"title\":\"Bokeh Application\",\"version\":\"2.4.3\"}};\n",
       "    var render_items = [{\"docid\":\"a47435e7-7b8c-414b-bafb-7b215c38fac4\",\"root_ids\":[\"1113\"],\"roots\":{\"1113\":\"8fb768d3-8e3d-4ad6-9b22-8e00cc6e11e5\"}}];\n",
       "    root.Bokeh.embed.embed_items_notebook(docs_json, render_items);\n",
       "  }\n",
       "  if (root.Bokeh !== undefined && root.Bokeh.Panel !== undefined) {\n",
       "    embed_document(root);\n",
       "  } else {\n",
       "    var attempts = 0;\n",
       "    var timer = setInterval(function(root) {\n",
       "      if (root.Bokeh !== undefined && root.Bokeh.Panel !== undefined) {\n",
       "        clearInterval(timer);\n",
       "        embed_document(root);\n",
       "      } else if (document.readyState == \"complete\") {\n",
       "        attempts++;\n",
       "        if (attempts > 200) {\n",
       "          clearInterval(timer);\n",
       "          console.log(\"Bokeh: ERROR: Unable to run BokehJS code because BokehJS library is missing\");\n",
       "        }\n",
       "      }\n",
       "    }, 25, root)\n",
       "  }\n",
       "})(window);</script>"
      ],
      "text/plain": [
       ":Bars   [index]   (scheduled_out)"
      ]
     },
     "execution_count": 73,
     "metadata": {
      "application/vnd.holoviews_exec.v0+json": {
       "id": "1113"
      }
     },
     "output_type": "execute_result"
    }
   ],
   "source": [
    "\n",
    "#Plot the Austin to Dallas Dataframe as a bar chart with the day of the week as the X axis and the number of flights as the Y axis\n",
    "\n",
    "austin_to_dallas_df['scheduled_out'].value_counts()\n",
    "\n",
    "austin_to_dallas_df['scheduled_out'].value_counts().hvplot.bar(xlabel='Day of the Week', ylabel='Number of Flights', title='Number of Flights from Austin to Dallas by Day of the Week', rot=45)"
   ]
  },
  {
   "cell_type": "code",
   "execution_count": null,
   "metadata": {},
   "outputs": [],
   "source": [
    "#Track Data\n",
    "file = \"./Texas_Railroads.geojson\"\n",
    "track_data = gpd.read_file(file)\n",
    "#Read track url into dataframe\n",
    "\n",
    "# Create a GeoDataFrame from the track_data\n",
    "gdf = gpd.GeoDataFrame(track_data, geometry='geometry')\n",
    "\n",
    "\n",
    "#Filter out irrelevant tracks\n",
    "gdf = gdf[(gdf[\"GID\"] == 8359) \n",
    "          | (gdf[\"GID\"] == 11743) \n",
    "          | (gdf[\"GID\"] == 8263) \n",
    "          | (gdf[\"GID\"] == 10209) \n",
    "          | (gdf[\"GID\"] == 12792) \n",
    "          | (gdf[\"GID\"] == 3255)\n",
    "          | (gdf[\"GID\"] == 11098) \n",
    "          | (gdf[\"GID\"] == 11714) \n",
    "          | (gdf[\"GID\"] == 12439) \n",
    "          | (gdf[\"GID\"] == 12741)\n",
    "          | (gdf[\"GID\"] == 13101) \n",
    "          | (gdf[\"GID\"] == 5689) \n",
    "          | (gdf[\"GID\"] == 10811)\n",
    "          | (gdf[\"GID\"] == 12063)\n",
    "          | (gdf[\"GID\"] == 12792)\n",
    "          | (gdf[\"GID\"] == 8629)\n",
    "          | (gdf[\"GID\"] == 12511)\n",
    "          | (gdf[\"GID\"] == 10922)\n",
    "          | (gdf[\"GID\"] == 10814)\n",
    "          ]\n",
    "\n",
    "#Create Map of Texas\n",
    "track_map = folium.Map(location=[31,-95], zoom_start=7, tiles=\"Stamen Terrain\")\n",
    "folium.GeoJson(\n",
    "    gdf\n",
    ").add_to(track_map)\n",
    "\n",
    "#Add markers to map indicating Dallas Fort Worth  and Austin Bergstrom International Airport\n",
    "#Dallas Fort Worth Field\n",
    "folium.vector_layers.CircleMarker(location=[32.897480, -97.040443], radius=5,popup= \"Dallas Airport\", color='red', fill=True, fill_color='red').add_to(track_map)\n",
    "#Austin Bergstrom International Airport\n",
    "folium.vector_layers.CircleMarker(location=[30.1944444444, -97.67], radius=5,popup= \"Austin Airport\", color='red', fill=True, fill_color='red').add_to(track_map)\n",
    "#Houston Airport\n",
    "folium.vector_layers.CircleMarker(location=[29.9855555556, -95.3422222222], popup= \"Houston Airport\", radius=5, color='red', fill=True, fill_color='red').add_to(track_map)\n",
    "#San Antonio Airport\n",
    "folium.vector_layers.CircleMarker(location=[29.5266666667, -98.4719444444], popup= \"San Antonio Airport\", radius=5, color='red', fill=True, fill_color='red').add_to(track_map)\n",
    "#Dallas Love Field\n",
    "folium.vector_layers.CircleMarker(location=[32.848152 , -96.851349], popup= \"Dallas Love Field Airport\", radius=5, color='red', fill=True, fill_color='red').add_to(track_map)\n",
    "\n",
    "#Display the Map\n",
    "\n",
    "display(track_map)\n"
   ]
  },
  {
   "attachments": {},
   "cell_type": "markdown",
   "metadata": {},
   "source": [
    "How are the cities of Austin and Dallas growing?\n"
   ]
  },
  {
   "cell_type": "markdown",
   "metadata": {},
   "source": []
  },
  {
   "cell_type": "code",
   "execution_count": null,
   "metadata": {},
   "outputs": [],
   "source": [
    "#Census Population projections\n",
    "###What are future growth projections for Austin and Dallas\n",
    "#Lin Reg or Map\n",
    "#"
   ]
  },
  {
   "attachments": {},
   "cell_type": "markdown",
   "metadata": {},
   "source": [
    "What are the existing rail lines between the two cities?\n",
    "Humdata\n",
    "Plot a few lines on a map\n"
   ]
  },
  {
   "cell_type": "code",
   "execution_count": null,
   "metadata": {},
   "outputs": [],
   "source": []
  },
  {
   "attachments": {},
   "cell_type": "markdown",
   "metadata": {},
   "source": [
    "How much fuel is consumed to fly or take the Train from Dallas to Austin?\n"
   ]
  },
  {
   "cell_type": "code",
   "execution_count": null,
   "metadata": {},
   "outputs": [],
   "source": [
    "#Fuel consumption of a plane vs train for x miles\n",
    "\n",
    "#Bar chart comparing the two - fuel consumed\n",
    "#Bar Chart comparing the two - CO2 emissions\n"
   ]
  },
  {
   "attachments": {},
   "cell_type": "markdown",
   "metadata": {},
   "source": [
    "How will population growth affect future fuel and CO2 emissions?\n"
   ]
  },
  {
   "cell_type": "code",
   "execution_count": null,
   "metadata": {},
   "outputs": [],
   "source": []
  }
 ],
 "metadata": {
  "kernelspec": {
   "display_name": "base",
   "language": "python",
   "name": "python3"
  },
  "language_info": {
   "codemirror_mode": {
    "name": "ipython",
    "version": 3
   },
   "file_extension": ".py",
   "mimetype": "text/x-python",
   "name": "python",
   "nbconvert_exporter": "python",
   "pygments_lexer": "ipython3",
   "version": "3.9.13"
  },
  "orig_nbformat": 4,
  "vscode": {
   "interpreter": {
    "hash": "cc6b0f132d0eded93f00671ce4de831d4d19b468721934f98fce874e76a19eb6"
   }
  }
 },
 "nbformat": 4,
 "nbformat_minor": 2
}

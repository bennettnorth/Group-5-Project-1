{
 "cells": [
  {
   "attachments": {},
   "cell_type": "markdown",
   "metadata": {},
   "source": [
    "*Project 1 Group 5*\n",
    "\n",
    "The aim of our project is to uncover opportunities within shorthaul rail in Texas. We'll examine relationships between population projections, emissions, travel time, and other related relationships derived from the data. We'll also examine the impact of the COVID-19 pandemic on shorthaul rail in Texas.\n",
    "\n",
    "What are the growth rates of Austin and Dallas? What are the existing rail lines connecting the two cities? What is the average fuel consumption for the different modes of transporation for a distance of this Length? How will future population growth affect the future emissions?"
   ]
  },
  {
   "cell_type": "code",
   "execution_count": 3,
   "metadata": {},
   "outputs": [],
   "source": [
    "import pandas as pd\n",
    "import geopandas as gpd\n",
    "import hvplot.pandas\n",
    "import requests\n",
    "import json\n",
    "import folium\n",
    "import pprint \n",
    "import numpy as np\n",
    "import matplotlib as mpl\n",
    "import matplotlib.pyplot as plt\n",
    "\n"
   ]
  },
  {
   "attachments": {},
   "cell_type": "markdown",
   "metadata": {},
   "source": [
    "*Data Sources*"
   ]
  },
  {
   "cell_type": "code",
   "execution_count": null,
   "metadata": {},
   "outputs": [],
   "source": [
    "#Census API\n",
    "#c2c15d86f334f8f317c455ad5503dc9b7f4a3077\n",
    "\n",
    "# census_url = \"https://api.census.gov/data/2019/acs/acs1?get=NAME,B01001_001E&for=metropolitan%20statistical%20area/micropolitan%20statistical%20area:*\"\n",
    "\n",
    "# #Track Data\n",
    "# file = \"./Texas_Railroads.geojson\"\n",
    "# track_data = gpd.read_file(file)\n",
    "# #Read track url into dataframe\n",
    "\n",
    "# # Create a GeoDataFrame from the track_data\n",
    "# gdf = gpd.GeoDataFrame(track_data, geometry='geometry')\n",
    "\n",
    "# #emissions Data for plane and train rides\n",
    "\n",
    "# read PLANE fuel csv file and create dataframe\n",
    "planes_fuel_csv = \"Resources/planes_fuel_data.csv\"\n",
    "planes_fuel_df = pd.read_csv(planes_fuel_csv, encoding=\"utf-8\")\n",
    "\n",
    "planes_fuel_df"
   ]
  },
  {
   "cell_type": "code",
   "execution_count": null,
   "metadata": {},
   "outputs": [],
   "source": [
    "# read TRAIN fuel csv file and create dataframe\n",
    "trains_fuel_csv = \"Resources/trains_fuel_data.csv\"\n",
    "trains_fuel_df = pd.read_csv(trains_fuel_csv)\n",
    "\n",
    "trains_fuel_df"
   ]
  },
  {
   "cell_type": "code",
   "execution_count": null,
   "metadata": {},
   "outputs": [],
   "source": [
    "# #Filter out irrelevant tracks\n",
    "# gdf = gdf[(gdf[\"GID\"] == 8359) \n",
    "#           | (gdf[\"GID\"] == 11743) \n",
    "#           | (gdf[\"GID\"] == 8263) \n",
    "#           | (gdf[\"GID\"] == 10209) \n",
    "#           | (gdf[\"GID\"] == 12792) \n",
    "#           | (gdf[\"GID\"] == 3255)\n",
    "#           | (gdf[\"GID\"] == 11098) \n",
    "#           | (gdf[\"GID\"] == 11714) \n",
    "#           | (gdf[\"GID\"] == 12439) \n",
    "#           | (gdf[\"GID\"] == 12741)\n",
    "#           | (gdf[\"GID\"] == 13101) \n",
    "#           | (gdf[\"GID\"] == 5689) \n",
    "#           | (gdf[\"GID\"] == 10811)\n",
    "#           | (gdf[\"GID\"] == 12063)\n",
    "#           | (gdf[\"GID\"] == 12792)\n",
    "#           | (gdf[\"GID\"] == 8629)\n",
    "#           | (gdf[\"GID\"] == 12511)\n",
    "#           | (gdf[\"GID\"] == 10922)\n",
    "#           | (gdf[\"GID\"] == 10814)\n",
    "#           ]\n",
    "\n",
    "# #Create Map of Texas\n",
    "# track_map = folium.Map(location=[35,-95], zoom_start=7, tiles=\"Stamen Terrain\")\n",
    "# folium.GeoJson(\n",
    "#     gdf\n",
    "# ).add_to(track_map)\n",
    "\n",
    "# #Add markers to map indicating Dallas Love Field and Austin Bergstrom International Airport\n",
    "# #Dallas Fort Worth Field\n",
    "# folium.vector_layers.CircleMarker(location=[32.897480, -97.040443], radius=5,popup= \"Dallas Airport\", color='red', fill=True, fill_color='red').add_to(track_map)\n",
    "# #Austin Bergstrom International Airport\n",
    "# folium.vector_layers.CircleMarker(location=[30.1944444444, -97.67], radius=5,popup= \"Austin Airport\", color='red', fill=True, fill_color='red').add_to(track_map)\n",
    "# #Houston Airport\n",
    "# folium.vector_layers.CircleMarker(location=[29.9855555556, -95.3422222222], popup= \"Houston Airport\", radius=5, color='red', fill=True, fill_color='red').add_to(track_map)\n",
    "\n",
    "# #Display the Map\n",
    "\n",
    "# display(track_map)\n"
   ]
  },
  {
   "attachments": {},
   "cell_type": "markdown",
   "metadata": {},
   "source": [
    "How are the cities of Austin and Dallas growing?\n"
   ]
  },
  {
   "cell_type": "markdown",
   "metadata": {},
   "source": []
  },
  {
   "cell_type": "code",
   "execution_count": null,
   "metadata": {},
   "outputs": [],
   "source": [
    "#Census Population projections\n",
    "###What are future growth projections for Austin and Dallas\n",
    "#Lin Reg or Map\n",
    "#"
   ]
  },
  {
   "attachments": {},
   "cell_type": "markdown",
   "metadata": {},
   "source": [
    "What are the existing rail lines between the two cities?\n",
    "Humdata\n",
    "Plot a few lines on a map\n"
   ]
  },
  {
   "cell_type": "code",
   "execution_count": null,
   "metadata": {},
   "outputs": [],
   "source": []
  },
  {
   "attachments": {},
   "cell_type": "markdown",
   "metadata": {},
   "source": [
    "How much fuel is consumed to fly or take the Train from Dallas to Austin?\n"
   ]
  },
  {
   "cell_type": "code",
   "execution_count": null,
   "metadata": {},
   "outputs": [],
   "source": [
    "# creating data frame of emissions data\n",
    "Combined_fuel_emissions = \"/Users/geecheeartheauxhokage/Desktop/REPO/Project 1/Group-5-Project-1/Resources/Combined_fuel_emissions.csv\"\n",
    "combined_fuel_emissions_df = pd.read_csv(Combined_fuel_emissions)\n",
    "combined_fuel_emissions_df\n"
   ]
  },
  {
   "cell_type": "code",
   "execution_count": 15,
   "metadata": {},
   "outputs": [
    {
     "data": {
      "image/png": "[encoded data removed]",
      "text/plain": [
       "<Figure size 640x480 with 1 Axes>"
      ]
     },
     "metadata": {},
     "output_type": "display_data"
    }
   ],
   "source": [
    "#Fuel consumption of a plane vs train for x miles\n",
    "#Bar chart comparing the two - fuel consumed\n",
    "#Bar Chart comparing the two - CO2 emissions\n",
    "\n",
    "# creating the dataset\n",
    "x_label = ['2010', '2011', '2012', '2013', '2014', '2015', '2016', '2017', '2018', '2019', '2020']\n",
    "fuel_con_aircraft = [11057, 10828,10238,10156,10293,10741,11167,11340,11849,12184,7233]\n",
    "aircraft_miles = [5976, 6005, 5956,5956,5947, 6046, 6227, 6338,6609,6815,4214]\n",
    "fuel_consumption_miles_traveled = pd.DataFrame(\n",
    "  {\n",
    "    'Fuel Consumption by Aircraft': fuel_con_aircraft,\n",
    "    'Aircraft Miles Traveled': aircraft_miles,\n",
    "    \n",
    "  }, \n",
    "  index=x_label\n",
    ")\n",
    "x = x_label\n",
    "y1 = aircraft_miles\n",
    "y2 = fuel_con_aircraft\n",
    "\n",
    "\n",
    "plt.plot(x, y1, \"-b\", label=\"aircraft_miles\")\n",
    "plt.bar(x, y2, width=0.2, alpha=0.5, color='orange', label=\"fuel_con_aircraft\" )\n",
    "\n",
    "plt.legend(loc=\"upper left\")\n",
    "plt.show()\n"
   ]
  },
  {
   "cell_type": "code",
   "execution_count": 17,
   "metadata": {},
   "outputs": [
    {
     "data": {
      "image/png": "[encoded data removed]",
      "text/plain": [
       "<Figure size 640x480 with 1 Axes>"
      ]
     },
     "metadata": {},
     "output_type": "display_data"
    }
   ],
   "source": [
    "#Fuel consumption of a plane vs train for x miles\n",
    "#Bar chart comparing the two - fuel consumed\n",
    "#Bar Chart comparing the two - CO2 emissions\n",
    "\n",
    "# creating the dataset\n",
    "x_label = ['2010', '2011', '2012', '2013', '2014', '2015', '2016', '2017', '2018', '2019', '2020']\n",
    "fuel_con_trains = [63,63,63,66,66,62,60,64,65,63,63]\n",
    "train_miles = [ 37,37,38,38,38,38,38,38,38,38,27]\n",
    "fuel_consumption_miles_traveled = pd.DataFrame(\n",
    "  {'Fuel Consumption by Trains' : fuel_con_trains,\n",
    "    'Miles traveled by Train' : train_miles\n",
    "  }, \n",
    "  index=x_label\n",
    ")\n",
    "\n",
    "x = x_label\n",
    "y1 = train_miles\n",
    "y2= fuel_con_trains\n",
    "plt.plot(x, y1, \"-b\", label= \"Miles Traveled By Trains\")\n",
    "plt.bar(x, y2, width=.50 ,alpha=0.5, color= 'blue', label=\"Fuel Consumption of Trains\")\n",
    "plt.legend(loc=\"upper left\")\n",
    "plt.show()"
   ]
  },
  {
   "attachments": {},
   "cell_type": "markdown",
   "metadata": {},
   "source": [
    "How will population growth affect future fuel and CO2 emissions?\n"
   ]
  },
  {
   "cell_type": "code",
   "execution_count": null,
   "metadata": {},
   "outputs": [],
   "source": []
  }
 ],
 "metadata": {
  "kernelspec": {
   "display_name": "Python 3.9.13 ('base')",
   "language": "python",
   "name": "python3"
  },
  "language_info": {
   "codemirror_mode": {
    "name": "ipython",
    "version": 3
   },
   "file_extension": ".py",
   "mimetype": "text/x-python",
   "name": "python",
   "nbconvert_exporter": "python",
   "pygments_lexer": "ipython3",
   "version": "3.9.13"
  },
  "orig_nbformat": 4,
  "vscode": {
   "interpreter": {
    "hash": "bdf2d604cb93976e1c57d98e37bdc591b436962b7bfe0cb5885ff062c43511ab"
   }
  }
 },
 "nbformat": 4,
 "nbformat_minor": 2
}
